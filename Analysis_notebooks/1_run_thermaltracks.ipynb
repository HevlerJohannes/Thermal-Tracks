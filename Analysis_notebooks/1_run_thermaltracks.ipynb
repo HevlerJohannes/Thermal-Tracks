{
 "cells": [
  {
   "cell_type": "markdown",
   "metadata": {},
   "source": [
    "# Run ThermalTracks pipline"
   ]
  },
  {
   "cell_type": "markdown",
   "metadata": {},
   "source": [
    "## Import functions"
   ]
  },
  {
   "cell_type": "code",
   "execution_count": null,
   "metadata": {},
   "outputs": [],
   "source": [
    "import pandas as pd\n",
    "import numpy as np\n",
    "import warnings\n",
    "import sys\n",
    "from pathlib import Path\n",
    "import random\n",
    "\n",
    "# Import Thermal Tracks modules\n",
    "project_root = Path().resolve().parents[0]\n",
    "src_path = project_root / 'src'\n",
    "sys.path.append(str(src_path))\n",
    "\n",
    "from run_full_process import full_gp_process\n",
    "\n",
    "# Ignore all warnings\n",
    "warnings.filterwarnings(\"ignore\") "
   ]
  },
  {
   "cell_type": "markdown",
   "metadata": {},
   "source": [
    "# Load example TPP-TR data from [Mateus et al. (2018)](https://www.embopress.org/doi/full/10.15252/msb.20188242)  "
   ]
  },
  {
   "cell_type": "code",
   "execution_count": 16,
   "metadata": {},
   "outputs": [
    {
     "data": {
      "text/html": [
       "<div>\n",
       "<style scoped>\n",
       "    .dataframe tbody tr th:only-of-type {\n",
       "        vertical-align: middle;\n",
       "    }\n",
       "\n",
       "    .dataframe tbody tr th {\n",
       "        vertical-align: top;\n",
       "    }\n",
       "\n",
       "    .dataframe thead th {\n",
       "        text-align: right;\n",
       "    }\n",
       "</style>\n",
       "<table border=\"1\" class=\"dataframe\">\n",
       "  <thead>\n",
       "    <tr style=\"text-align: right;\">\n",
       "      <th></th>\n",
       "      <th>condition</th>\n",
       "      <th>uniqueID</th>\n",
       "      <th>y</th>\n",
       "      <th>x</th>\n",
       "    </tr>\n",
       "  </thead>\n",
       "  <tbody>\n",
       "    <tr>\n",
       "      <th>2100</th>\n",
       "      <td>lysate</td>\n",
       "      <td>P02413-(RPLO)</td>\n",
       "      <td>1.000000</td>\n",
       "      <td>37.0</td>\n",
       "    </tr>\n",
       "    <tr>\n",
       "      <th>2101</th>\n",
       "      <td>lysate</td>\n",
       "      <td>P02413-(RPLO)</td>\n",
       "      <td>1.169526</td>\n",
       "      <td>40.4</td>\n",
       "    </tr>\n",
       "    <tr>\n",
       "      <th>2102</th>\n",
       "      <td>lysate</td>\n",
       "      <td>P02413-(RPLO)</td>\n",
       "      <td>1.055569</td>\n",
       "      <td>46.9</td>\n",
       "    </tr>\n",
       "    <tr>\n",
       "      <th>2103</th>\n",
       "      <td>lysate</td>\n",
       "      <td>P02413-(RPLO)</td>\n",
       "      <td>0.699179</td>\n",
       "      <td>52.9</td>\n",
       "    </tr>\n",
       "    <tr>\n",
       "      <th>2104</th>\n",
       "      <td>lysate</td>\n",
       "      <td>P02413-(RPLO)</td>\n",
       "      <td>0.107548</td>\n",
       "      <td>58.6</td>\n",
       "    </tr>\n",
       "  </tbody>\n",
       "</table>\n",
       "</div>"
      ],
      "text/plain": [
       "     condition       uniqueID         y     x\n",
       "2100    lysate  P02413-(RPLO)  1.000000  37.0\n",
       "2101    lysate  P02413-(RPLO)  1.169526  40.4\n",
       "2102    lysate  P02413-(RPLO)  1.055569  46.9\n",
       "2103    lysate  P02413-(RPLO)  0.699179  52.9\n",
       "2104    lysate  P02413-(RPLO)  0.107548  58.6"
      ]
     },
     "execution_count": 16,
     "metadata": {},
     "output_type": "execute_result"
    }
   ],
   "source": [
    "# Load example data (E.coli cell lysate - Mateus et al. (2018)\n",
    "example_data_path = project_root / 'Example_data/input_dataframes'\n",
    "\n",
    "# Load the data\n",
    "csv_path = example_data_path / \"Mateus_MgCl2_2018\" / \"ecoli_lysate_mgcl2_tpp_scaled_df.csv\"\n",
    "tpp_ecoli_df = pd.read_csv(csv_path)\n",
    "\n",
    "tpp_ecoli_df = pd.read_csv(rf\"{example_data_path}/Mateus_MgCl2_2018/ecoli_lysate_mgcl2_tpp_scaled_df.csv\")\n",
    "tpp_ecoli_df = tpp_ecoli_df[['condition', 'uniqueID', 'y_FC_Scaling', 'x']]\n",
    "tpp_ecoli_df = tpp_ecoli_df.rename(columns={\"y_FC_Scaling\": \"y\"})\n",
    "\n",
    "# For testing generate a list with 10 proteins at random\n",
    "unique_ids = tpp_ecoli_df['uniqueID'].unique().tolist()\n",
    "random_ids = random.sample(unique_ids, 200)\n",
    "\n",
    "# Produce a reduced TPP-TR dataset with the 200 proteins\n",
    "tpp_ecoli_df = tpp_ecoli_df[tpp_ecoli_df['uniqueID'].isin(random_ids)]\n",
    "tpp_ecoli_df.head(5)"
   ]
  },
  {
   "cell_type": "markdown",
   "metadata": {},
   "source": [
    "# Run Thermal Tracks for $E. coli$ lysate treated with $MgCl_2$"
   ]
  },
  {
   "cell_type": "code",
   "execution_count": 20,
   "metadata": {},
   "outputs": [
    {
     "data": {
      "text/markdown": [
       "- [x] 1. Build and fit full model\n",
       "- [x] 2. Create a joint model and null dataset\n",
       "- [x] 3. Evaluate and predict models\n",
       "- [x] 4. Build and fit null model\n",
       "- [x] 5. Compute likelihood ratio test statistics\n",
       "- [x] 6. Combine and create result files\n"
      ],
      "text/plain": [
       "<IPython.core.display.Markdown object>"
      ]
     },
     "metadata": {},
     "output_type": "display_data"
    }
   ],
   "source": [
    "import gpytorch\n",
    "\n",
    "# Create Result folder\n",
    "results_dir = Path(example_data_path) / \"Mateus_MgCl2_2018\" / \"results\"\n",
    "results_dir.mkdir(parents=True, exist_ok=True)\n",
    "\n",
    "# Set parameters\n",
    "parameters = {\n",
    "\"result_dir\" : rf\"{results_dir}/\",\n",
    "\"subset_test\" : False,\n",
    "\"lengthscale_prior\": gpytorch.priors.GammaPrior(10, 1),\n",
    "\"lengthscale_minconstraint\" : 'max',\n",
    "\"lengthscale_mult\" : 1, \n",
    "\"control_condition\": \"lysate\",\n",
    "\"perturbation\" : \"lysate_MgCl2\",\n",
    "\"training_iterations\" : 150, \n",
    "\"learningRate\" : 0.1,\n",
    "\"amsgrad\" : False, \n",
    "\"n_predictions\" : 50, \n",
    "\"create_plots\" : False, \n",
    "\"exclude_poor_fits\" : False,\n",
    "\"samples_per_id\" : 10}\n",
    "warnings.filterwarnings(\"ignore\")\n",
    "\n",
    "# run\n",
    "full_gp_process(tpp_ecoli_df, parameters)"
   ]
  }
 ],
 "metadata": {
  "kernelspec": {
   "display_name": "gp_melt",
   "language": "python",
   "name": "python3"
  },
  "language_info": {
   "codemirror_mode": {
    "name": "ipython",
    "version": 3
   },
   "file_extension": ".py",
   "mimetype": "text/x-python",
   "name": "python",
   "nbconvert_exporter": "python",
   "pygments_lexer": "ipython3",
   "version": "3.12.7"
  }
 },
 "nbformat": 4,
 "nbformat_minor": 2
}
